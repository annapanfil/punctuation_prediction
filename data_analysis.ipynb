{
 "cells": [
  {
   "cell_type": "code",
   "execution_count": 92,
   "metadata": {},
   "outputs": [
    {
     "name": "stdout",
     "output_type": "stream",
     "text": [
      "TRAIN + DEV\n",
      "11010 sentences\n",
      " 69 audio files\n"
     ]
    }
   ],
   "source": [
    "import re\n",
    "from collections import Counter\n",
    "\n",
    "# get input data\n",
    "print(\"TRAIN + DEV\")\n",
    "train_lines = open(\"data/train/in.tsv\", \"r\").readlines()\n",
    "dev_lines = open(\"data/dev-0/in.tsv\", \"r\").readlines()\n",
    "lines = train_lines + dev_lines\n",
    "\n",
    "lines = [line.split(\"\\t\") for line in lines]\n",
    "\n",
    "sources = list(zip(*lines))[0]\n",
    "texts_ts = list(zip(*lines))[2]\n",
    "\n",
    "texts = [re.sub(r':\\d+-\\d+', '', text) for text in texts_ts]\n",
    "texts = [text.replace(\"\\n\", \"\") for text in texts]\n",
    "\n",
    "print(len(texts), \"sentences\\n\", len(set(sources)), \"audio files\")"
   ]
  },
  {
   "cell_type": "code",
   "execution_count": 96,
   "metadata": {},
   "outputs": [
    {
     "data": {
      "text/plain": [
       "[('I teraz mamy drugi dzień takiej ładnej pogody Ała Nie bij mnie kijem To boli',\n",
       "  'I teraz mamy drugi dzień takiej ładnej pogody... Ała! Nie bij mnie kijem! To boli!'),\n",
       " ('Stasio Bo nie dostaniesz jogurciku',\n",
       "  'Stasio! Bo nie dostaniesz jogurciku!'),\n",
       " ('Jogurcik dostają tylko grzeczne dzieci Które nie biją mamy kijem',\n",
       "  'Jogurcik dostają tylko grzeczne dzieci. Które nie biją mamy kijem.'),\n",
       " ('Nie biją', 'Nie biją.'),\n",
       " ('Uhm A co powiesz jak wejdziesz do sklepu',\n",
       "  'Uhm. A co powiesz, jak wejdziesz do sklepu?')]"
      ]
     },
     "execution_count": 96,
     "metadata": {},
     "output_type": "execute_result"
    }
   ],
   "source": [
    "# get labels\n",
    "train_labels = open(\"data/train/expected.tsv\", \"r\").readlines()\n",
    "dev_labels = open(\"data/dev-0/expected.tsv\", \"r\").readlines()\n",
    "labels = train_labels + dev_labels\n",
    "labels = [label.replace(\"\\n\", \"\") for label in labels]\n",
    "\n",
    "len(labels)\n",
    "list(zip(texts, labels))[:5]"
   ]
  },
  {
   "cell_type": "code",
   "execution_count": 236,
   "metadata": {},
   "outputs": [
    {
     "name": "stdout",
     "output_type": "stream",
     "text": [
      "min:  1 \n",
      "max:  184 \n",
      "avg:  8.909627611262488 \n",
      "all:  98095\n"
     ]
    }
   ],
   "source": [
    "# number of words\n",
    "lengths = [len(text.split()) for text in texts]\n",
    "print(\"min: \", min(lengths), \"\\nmax: \", max(lengths), \"\\navg: \", sum(lengths) / len(lengths), \"\\nall: \", sum(lengths))"
   ]
  },
  {
   "cell_type": "code",
   "execution_count": 229,
   "metadata": {},
   "outputs": [],
   "source": [
    "import numpy as np\n",
    "from pprint import pprint\n",
    "from matplotlib import pyplot as plt\n",
    "%matplotlib inline\n",
    "\n",
    "def punctuation_stats(labels):  \n",
    "    labels = [label.replace(\"...\", '…') for label in labels]\n",
    "    puncts = [re.sub(r'\\w|\\s', '', label) for label in labels]\n",
    "    puncts_number = Counter(\"\".join(puncts)).most_common()\n",
    "    print(\"total punctuation count:\")\n",
    "    pprint(puncts_number)\n",
    "\n",
    "    counts = np.zeros((len(puncts_number), len(labels)))\n",
    "    for i, label in enumerate(labels):\n",
    "        for j, punct in enumerate(puncts_number):\n",
    "            counts[j, i] = label.count(punct[0])\n",
    "\n",
    "    plt.figure(figsize=(10,50))\n",
    "    plt.imshow(counts[:, :50], cmap='gray')\n",
    "    plt.yticks(range(len(puncts_number)), [punct[0] for punct in puncts_number]);\n",
    "\n",
    "    stats = [[\"\", \"min\", \"max\", \"mean\", \"std\"]] + list(zip([punct[0] for punct in puncts_number], counts.min(axis=1), counts.max(axis=1), counts.mean(axis=1), counts.std(axis=1)))\n",
    "    print(\"stats for sentences\")\n",
    "    pprint(stats)"
   ]
  },
  {
   "cell_type": "code",
   "execution_count": 230,
   "metadata": {},
   "outputs": [
    {
     "name": "stdout",
     "output_type": "stream",
     "text": [
      "total punctuation count:\n",
      "[(',', 11141),\n",
      " ('.', 7785),\n",
      " ('…', 4519),\n",
      " ('?', 1659),\n",
      " ('!', 247),\n",
      " ('-', 166),\n",
      " ('@', 1)]\n",
      "stats for sentences\n",
      "[['', 'min', 'max', 'mean', 'std'],\n",
      " (',', 0.0, 19.0, 1.0118982742960945, 1.6335893326434152),\n",
      " ('.', 0.0, 10.0, 0.7070844686648501, 0.7885619311731719),\n",
      " ('…', 0.0, 11.0, 0.41044504995458675, 0.9531342636514238),\n",
      " ('?', 0.0, 4.0, 0.15068119891008175, 0.40713659634611926),\n",
      " ('!', 0.0, 3.0, 0.022434150772025433, 0.18018528277052606),\n",
      " ('-', 0.0, 3.0, 0.015077202543142598, 0.13256951439506232),\n",
      " ('@', 0.0, 1.0, 9.082652134423252e-05, 0.009529862112709345)]\n"
     ]
    },
    {
     "data": {
      "image/png": "[encoded data removed]",
      "text/plain": [
       "<Figure size 1000x5000 with 1 Axes>"
      ]
     },
     "metadata": {},
     "output_type": "display_data"
    }
   ],
   "source": [
    "punctuation_stats(labels) # In gold labels"
   ]
  },
  {
   "cell_type": "code",
   "execution_count": 237,
   "metadata": {},
   "outputs": [
    {
     "name": "stdout",
     "output_type": "stream",
     "text": [
      "total punctuation count:\n",
      "[('-', 115), ('…', 49), (\"'\", 15), ('@', 1), ('.', 1)]\n",
      "stats for sentences\n",
      "[['', 'min', 'max', 'mean', 'std'],\n",
      " ('-', 0.0, 3.0, 0.01044504995458674, 0.10941128036098066),\n",
      " ('…', 0.0, 2.0, 0.004450499545867393, 0.07053829972238501),\n",
      " (\"'\", 0.0, 1.0, 0.0013623978201634877, 0.03688552144599695),\n",
      " ('@', 0.0, 1.0, 9.082652134423252e-05, 0.009529862112709345),\n",
      " ('.', 0.0, 1.0, 9.082652134423252e-05, 0.009529862112709345)]\n"
     ]
    },
    {
     "data": {
      "image/png": "[encoded data removed]",
      "text/plain": [
       "<Figure size 1000x5000 with 1 Axes>"
      ]
     },
     "metadata": {},
     "output_type": "display_data"
    }
   ],
   "source": [
    "punctuation_stats(texts) # In raw text"
   ]
  },
  {
   "cell_type": "code",
   "execution_count": 233,
   "metadata": {},
   "outputs": [
    {
     "data": {
      "text/plain": [
       "'I 0 teraz 240 mamy 120 drugi 420 dzień 120 takiej 240 ładnej 210 pogody 570 Ała 0 Nie 60 bij 120 mnie 210 kijem 420 To 60 boli 90'"
      ]
     },
     "execution_count": 233,
     "metadata": {},
     "output_type": "execute_result"
    }
   ],
   "source": [
    "# Add duration for each word\n",
    "\n",
    "import re\n",
    "times = []\n",
    "matches = re.findall(r':\\d+-\\d+', texts_ts[0])\n",
    "for match in matches:\n",
    "    match = match[1:].split(\"-\")\n",
    "    times.append(int(match[1]) - int(match[0]))\n",
    "\n",
    "text_dur = list(zip(texts[0].split(\" \"), times))\n",
    "text_dur = [str(x) for t in text_dur for x in t]\n",
    "\" \".join(text_dur)"
   ]
  }
 ],
 "metadata": {
  "kernelspec": {
   "display_name": "ml",
   "language": "python",
   "name": "python3"
  },
  "language_info": {
   "codemirror_mode": {
    "name": "ipython",
    "version": 3
   },
   "file_extension": ".py",
   "mimetype": "text/x-python",
   "name": "python",
   "nbconvert_exporter": "python",
   "pygments_lexer": "ipython3",
   "version": "3.10.9"
  }
 },
 "nbformat": 4,
 "nbformat_minor": 2
}
