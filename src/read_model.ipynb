{
 "cells": [
  {
   "cell_type": "code",
   "execution_count": 1,
   "metadata": {},
   "outputs": [
    {
     "name": "stderr",
     "output_type": "stream",
     "text": [
      "/mnt/dane/.conda/envs/mgr/lib/python3.12/site-packages/tqdm/auto.py:21: TqdmWarning: IProgress not found. Please update jupyter and ipywidgets. See https://ipywidgets.readthedocs.io/en/stable/user_install.html\n",
      "  from .autonotebook import tqdm as notebook_tqdm\n",
      "Downloading artifacts:   0%|          | 0/10 [00:00<?, ?it/s]2024/04/11 11:18:38 INFO mlflow.store.artifact.artifact_repo: The progress bar can be disabled by setting the environment variable MLFLOW_ENABLE_ARTIFACTS_PROGRESS_BAR to false\n",
      "Downloading artifacts: 100%|██████████| 10/10 [01:03<00:00,  6.31s/it] \n",
      "/mnt/dane/.conda/envs/mgr/lib/python3.12/site-packages/transformers/deepspeed.py:23: FutureWarning: transformers.deepspeed module is deprecated and will be removed in a future version. Please import deepspeed modules directly from transformers.integrations\n",
      "  warnings.warn(\n",
      "/mnt/dane/.conda/envs/mgr/lib/python3.12/site-packages/transformers/generation_utils.py:24: FutureWarning: Importing `GenerationMixin` from `src/transformers/generation_utils.py` is deprecated and will be removed in Transformers v4.40. Import as `from transformers import GenerationMixin` instead.\n",
      "  warnings.warn(\n"
     ]
    }
   ],
   "source": [
    "import mlflow\n",
    "mlflow.set_tracking_uri('https://dagshub.com/annapanfil/punctuation_prediction.mlflow')\n",
    "logged_model = 'runs:/58b6208c3f4c4d9eab209e82241e2a0b/models'\n",
    "loaded_model = mlflow.pytorch.load_model(logged_model)"
   ]
  },
  {
   "cell_type": "code",
   "execution_count": 5,
   "metadata": {},
   "outputs": [
    {
     "data": {
      "text/plain": [
       "DeepPunctuation(\n",
       "  (bert_layer): RobertaModel(\n",
       "    (embeddings): RobertaEmbeddings(\n",
       "      (word_embeddings): Embedding(50560, 768, padding_idx=1)\n",
       "      (position_embeddings): Embedding(514, 768, padding_idx=1)\n",
       "      (token_type_embeddings): Embedding(1, 768)\n",
       "      (LayerNorm): LayerNorm((768,), eps=1e-12, elementwise_affine=True)\n",
       "      (dropout): Dropout(p=0.1, inplace=False)\n",
       "    )\n",
       "    (encoder): RobertaEncoder(\n",
       "      (layer): ModuleList(\n",
       "        (0-11): 12 x RobertaLayer(\n",
       "          (attention): RobertaAttention(\n",
       "            (self): RobertaSelfAttention(\n",
       "              (query): Linear(in_features=768, out_features=768, bias=True)\n",
       "              (key): Linear(in_features=768, out_features=768, bias=True)\n",
       "              (value): Linear(in_features=768, out_features=768, bias=True)\n",
       "              (dropout): Dropout(p=0.1, inplace=False)\n",
       "            )\n",
       "            (output): RobertaSelfOutput(\n",
       "              (dense): Linear(in_features=768, out_features=768, bias=True)\n",
       "              (LayerNorm): LayerNorm((768,), eps=1e-12, elementwise_affine=True)\n",
       "              (dropout): Dropout(p=0.1, inplace=False)\n",
       "            )\n",
       "          )\n",
       "          (intermediate): RobertaIntermediate(\n",
       "            (dense): Linear(in_features=768, out_features=3072, bias=True)\n",
       "            (intermediate_act_fn): GELUActivation()\n",
       "          )\n",
       "          (output): RobertaOutput(\n",
       "            (dense): Linear(in_features=3072, out_features=768, bias=True)\n",
       "            (LayerNorm): LayerNorm((768,), eps=1e-12, elementwise_affine=True)\n",
       "            (dropout): Dropout(p=0.1, inplace=False)\n",
       "          )\n",
       "        )\n",
       "      )\n",
       "    )\n",
       "    (pooler): RobertaPooler(\n",
       "      (dense): Linear(in_features=768, out_features=768, bias=True)\n",
       "      (activation): Tanh()\n",
       "    )\n",
       "  )\n",
       "  (lstm): LSTM(768, 768, bidirectional=True)\n",
       "  (linear): Linear(in_features=1536, out_features=4, bias=True)\n",
       ")"
      ]
     },
     "execution_count": 5,
     "metadata": {},
     "output_type": "execute_result"
    }
   ],
   "source": [
    "loaded_model"
   ]
  },
  {
   "cell_type": "code",
   "execution_count": 34,
   "metadata": {},
   "outputs": [
    {
     "name": "stderr",
     "output_type": "stream",
     "text": [
      "loading configuration file config.json from cache at /home/anna/.cache/huggingface/hub/models--allegro--herbert-klej-cased-tokenizer-v1/snapshots/22f03e76fc129ea8f15a92e7213d5beeba83f4c8/config.json\n",
      "Model config XLMConfig {\n",
      "  \"_name_or_path\": \"allegro/herbert-klej-cased-tokenizer-v1\",\n",
      "  \"asm\": false,\n",
      "  \"attention_dropout\": 0.1,\n",
      "  \"bos_index\": 0,\n",
      "  \"bos_token_id\": 0,\n",
      "  \"causal\": false,\n",
      "  \"dropout\": 0.1,\n",
      "  \"emb_dim\": 2048,\n",
      "  \"embed_init_std\": 0.02209708691207961,\n",
      "  \"end_n_top\": 5,\n",
      "  \"eos_index\": 1,\n",
      "  \"gelu_activation\": true,\n",
      "  \"init_std\": 0.02,\n",
      "  \"is_encoder\": true,\n",
      "  \"lang_id\": 0,\n",
      "  \"layer_norm_eps\": 1e-12,\n",
      "  \"mask_index\": 5,\n",
      "  \"mask_token_id\": 0,\n",
      "  \"max_position_embeddings\": 512,\n",
      "  \"model_type\": \"xlm\",\n",
      "  \"n_heads\": 16,\n",
      "  \"n_langs\": 1,\n",
      "  \"n_layers\": 12,\n",
      "  \"pad_index\": 2,\n",
      "  \"pad_token_id\": 2,\n",
      "  \"sinusoidal_embeddings\": false,\n",
      "  \"start_n_top\": 5,\n",
      "  \"summary_activation\": null,\n",
      "  \"summary_first_dropout\": 0.1,\n",
      "  \"summary_proj_to_labels\": true,\n",
      "  \"summary_type\": \"first\",\n",
      "  \"summary_use_proj\": true,\n",
      "  \"transformers_version\": \"4.39.1\",\n",
      "  \"unk_index\": 3,\n",
      "  \"use_lang_emb\": true,\n",
      "  \"vocab_size\": 30145\n",
      "}\n",
      "\n",
      "loading file vocab.json from cache at /home/anna/.cache/huggingface/hub/models--allegro--herbert-klej-cased-tokenizer-v1/snapshots/22f03e76fc129ea8f15a92e7213d5beeba83f4c8/vocab.json\n",
      "loading file merges.txt from cache at /home/anna/.cache/huggingface/hub/models--allegro--herbert-klej-cased-tokenizer-v1/snapshots/22f03e76fc129ea8f15a92e7213d5beeba83f4c8/merges.txt\n",
      "loading file added_tokens.json from cache at None\n",
      "loading file special_tokens_map.json from cache at /home/anna/.cache/huggingface/hub/models--allegro--herbert-klej-cased-tokenizer-v1/snapshots/22f03e76fc129ea8f15a92e7213d5beeba83f4c8/special_tokens_map.json\n",
      "loading file tokenizer_config.json from cache at /home/anna/.cache/huggingface/hub/models--allegro--herbert-klej-cased-tokenizer-v1/snapshots/22f03e76fc129ea8f15a92e7213d5beeba83f4c8/tokenizer_config.json\n",
      "loading file tokenizer.json from cache at None\n",
      "loading configuration file config.json from cache at /home/anna/.cache/huggingface/hub/models--allegro--herbert-klej-cased-tokenizer-v1/snapshots/22f03e76fc129ea8f15a92e7213d5beeba83f4c8/config.json\n",
      "Model config XLMConfig {\n",
      "  \"_name_or_path\": \"allegro/herbert-klej-cased-tokenizer-v1\",\n",
      "  \"asm\": false,\n",
      "  \"attention_dropout\": 0.1,\n",
      "  \"bos_index\": 0,\n",
      "  \"bos_token_id\": 0,\n",
      "  \"causal\": false,\n",
      "  \"dropout\": 0.1,\n",
      "  \"emb_dim\": 2048,\n",
      "  \"embed_init_std\": 0.02209708691207961,\n",
      "  \"end_n_top\": 5,\n",
      "  \"eos_index\": 1,\n",
      "  \"gelu_activation\": true,\n",
      "  \"init_std\": 0.02,\n",
      "  \"is_encoder\": true,\n",
      "  \"lang_id\": 0,\n",
      "  \"layer_norm_eps\": 1e-12,\n",
      "  \"mask_index\": 5,\n",
      "  \"mask_token_id\": 0,\n",
      "  \"max_position_embeddings\": 512,\n",
      "  \"model_type\": \"xlm\",\n",
      "  \"n_heads\": 16,\n",
      "  \"n_langs\": 1,\n",
      "  \"n_layers\": 12,\n",
      "  \"pad_index\": 2,\n",
      "  \"pad_token_id\": 2,\n",
      "  \"sinusoidal_embeddings\": false,\n",
      "  \"start_n_top\": 5,\n",
      "  \"summary_activation\": null,\n",
      "  \"summary_first_dropout\": 0.1,\n",
      "  \"summary_proj_to_labels\": true,\n",
      "  \"summary_type\": \"first\",\n",
      "  \"summary_use_proj\": true,\n",
      "  \"transformers_version\": \"4.39.1\",\n",
      "  \"unk_index\": 3,\n",
      "  \"use_lang_emb\": true,\n",
      "  \"vocab_size\": 30145\n",
      "}\n",
      "\n"
     ]
    }
   ],
   "source": [
    "from transformers import AutoTokenizer\n",
    "import torch\n",
    "\n",
    "from config import MODELS\n",
    "from dataset import Dataset\n",
    "\n",
    "tokenizer = AutoTokenizer.from_pretrained(MODELS[\"herbert-base\"][\"tokenizer_name\"])\n",
    "token_style = MODELS[\"herbert-base\"][\"token_style\"]\n",
    "\n",
    "test_set = []\n",
    "\n",
    "test_set = Dataset(\"../data/pl/val\", tokenizer=tokenizer, sequence_len=256,\n",
    "            token_style=token_style, is_train=False)\n",
    "\n",
    "# Data Loaders\n",
    "data_loader_params = {\n",
    "'batch_size': 8,\n",
    "'shuffle': False,\n",
    "'num_workers': 0\n",
    "}\n",
    "\n",
    "test_loader = torch.utils.data.DataLoader(test_set, **data_loader_params)"
   ]
  },
  {
   "cell_type": "code",
   "execution_count": 9,
   "metadata": {},
   "outputs": [
    {
     "name": "stderr",
     "output_type": "stream",
     "text": [
      "test: 100%|██████████| 30/30 [00:51<00:00,  1.73s/it]\n",
      "/mnt/dane/projekty/studia/punctuation_prediction/src/test.py:62: RuntimeWarning: invalid value encountered in divide\n",
      "  precision = np.nan_to_num(tp/(tp+fp))\n",
      "/mnt/dane/projekty/studia/punctuation_prediction/src/test.py:63: RuntimeWarning: invalid value encountered in divide\n",
      "  recall = np.nan_to_num(tp/(tp+fn))\n",
      "/mnt/dane/projekty/studia/punctuation_prediction/src/test.py:64: RuntimeWarning: invalid value encountered in divide\n",
      "  f1 = np.nan_to_num(2 * precision * recall / (precision + recall))\n"
     ]
    },
    {
     "data": {
      "text/plain": [
       "(array([0.96939218, 0.7262036 , 0.6993689 , 0.61904762, 0.        ,\n",
       "        0.        , 0.        , 0.        , 0.71082209]),\n",
       " array([0.97326806, 0.65408805, 0.77966102, 0.05508475, 0.        ,\n",
       "        0.        , 0.        , 0.        , 0.69345238]),\n",
       " array([0.97132626, 0.68826193, 0.73733555, 0.10116732, 0.        ,\n",
       "        0.        , 0.        , 0.        , 0.70202981]),\n",
       " 0.9339221603048391,\n",
       " array([[37974,   480,   562,     1,     0,     0,     0,     0],\n",
       "        [  684,  1976,   357,     4,     0,     0,     0,     0],\n",
       "        [  457,   229,  2438,     3,     0,     0,     0,     0],\n",
       "        [   58,    36,   129,    13,     0,     0,     0,     0],\n",
       "        [    0,     0,     0,     0,     0,     0,     0,     0],\n",
       "        [    0,     0,     0,     0,     0,     0,     0,     0],\n",
       "        [    0,     0,     0,     0,     0,     0,     0,     0],\n",
       "        [    0,     0,     0,     0,     0,     0,     0,     0]]),\n",
       " array([39017,  3021,  3127,   236,     0,     0,     0,     0]))"
      ]
     },
     "execution_count": 9,
     "metadata": {},
     "output_type": "execute_result"
    }
   ],
   "source": [
    "from test import test\n",
    "\n",
    "device = torch.device('cuda' if (torch.cuda.is_available()) else 'cpu')\n",
    "class args():\n",
    "    use_crf = False\n",
    "\n",
    "args = args()\n",
    "\n",
    "precision, recall, f1, accuracy, cm, support = test(test_loader, loaded_model, device, args)\n",
    "\n",
    "precision, recall, f1, accuracy, cm, support "
   ]
  },
  {
   "cell_type": "code",
   "execution_count": 33,
   "metadata": {},
   "outputs": [
    {
     "data": {
      "image/png": "[encoded data removed]",
      "text/plain": [
       "<Figure size 640x480 with 2 Axes>"
      ]
     },
     "metadata": {},
     "output_type": "display_data"
    }
   ],
   "source": [
    "import seaborn as sns\n",
    "from config import punctuation_dict\n",
    "import matplotlib.pyplot as plt\n",
    "\n",
    "cm_img = sns.heatmap(cm, annot=True, cmap=\"coolwarm\", xticklabels=punctuation_dict.keys(), yticklabels=punctuation_dict.keys(), fmt='d')\n",
    "cm_img.set_xlabel(\"correct\")\n",
    "cm_img.set_ylabel(\"predicted\")\n",
    "# mlflow.log_figure(cm_img.get_figure(), \"confusion_matrix.png\")\n",
    "plt.show()"
   ]
  },
  {
   "cell_type": "code",
   "execution_count": 29,
   "metadata": {},
   "outputs": [
    {
     "data": {
      "text/plain": [
       "'False'"
      ]
     },
     "execution_count": 29,
     "metadata": {},
     "output_type": "execute_result"
    }
   ],
   "source": [
    "parameters = 'runs:/58b6208c3f4c4d9eab209e82241e2a0b/parameters'\n",
    "run = mlflow.get_run(\"58b6208c3f4c4d9eab209e82241e2a0b\")\n",
    "True if run.data.params[\"Use CRF\"] == \"True\" else False\n"
   ]
  },
  {
   "cell_type": "code",
   "execution_count": null,
   "metadata": {},
   "outputs": [],
   "source": []
  }
 ],
 "metadata": {
  "kernelspec": {
   "display_name": "mgr",
   "language": "python",
   "name": "python3"
  },
  "language_info": {
   "codemirror_mode": {
    "name": "ipython",
    "version": 3
   },
   "file_extension": ".py",
   "mimetype": "text/x-python",
   "name": "python",
   "nbconvert_exporter": "python",
   "pygments_lexer": "ipython3",
   "version": "3.12.2"
  }
 },
 "nbformat": 4,
 "nbformat_minor": 2
}
